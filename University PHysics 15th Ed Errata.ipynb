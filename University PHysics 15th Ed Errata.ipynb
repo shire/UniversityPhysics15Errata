{
 "cells": [
  {
   "cell_type": "markdown",
   "metadata": {},
   "source": [
    "# Overview"
   ]
  },
  {
   "cell_type": "markdown",
   "metadata": {},
   "source": [
    "\n",
    "The following is a list of potential errors I've found during my studying of the University Physics 15th edition textbook by Young and Freedman.  If you find any of the corrections below to be in error, please let me know.  If you know of another errata that this could be combined with please let me know at the email below or if you have additional corrections you'd like to include I'd be happy to add them here as well.\n",
    "\n",
    "-Brian Shire\n",
    "shire at tekrat.com\n"
   ]
  },
  {
   "cell_type": "markdown",
   "metadata": {},
   "source": [
    "# University Physics 15th Ed. Errata"
   ]
  },
  {
   "cell_type": "markdown",
   "metadata": {},
   "source": [
    "## Ch. 10\n"
   ]
  },
  {
   "cell_type": "markdown",
   "metadata": {},
   "source": [
    "\n",
    "### 9.65\n",
    "\n",
    "Question in digital version of textbook is missing $I_p$ and $\\omega _p$ values, print version is correct.\n"
   ]
  },
  {
   "cell_type": "markdown",
   "metadata": {},
   "source": [
    "\n",
    "### pp. 312 Example 10.6\n",
    "\n",
    "From Eq. (10.11), $V_{cm-z} = R \\omega_z$\" should read \"$V_{cm-y} = R \\omega_z$\" since center of mass velocity is perpendicular to the rotational velocity and in this example in the y-direction.  The subsequent equation of the derivative uses the correct direction notation.\n"
   ]
  },
  {
   "cell_type": "markdown",
   "metadata": {},
   "source": [
    "\n",
    "## ch. 12\n"
   ]
  },
  {
   "cell_type": "markdown",
   "metadata": {},
   "source": [
    "\n",
    "### 12.37\n",
    "\n",
    "The solution provided to this problem in the back of the book is \"501 N\", but the correct answer is \"262 N\".  Details given in the correction for the studiy guide below.\n"
   ]
  },
  {
   "cell_type": "markdown",
   "metadata": {},
   "source": [
    "\n",
    "### 12.55\n",
    "\n",
    "Part \"b\" of the question asks for a solution for \"either\" end of the pool but only provides one.  The other solution should be $2.2 \\times 10^5$.  See correction in study guide below for more details.\n"
   ]
  },
  {
   "cell_type": "markdown",
   "metadata": {},
   "source": [
    "\n",
    "# University Physics 15th Ed. Student's Study Guide and Solutions Manual Volume 1 Errata\n"
   ]
  },
  {
   "cell_type": "markdown",
   "metadata": {},
   "source": [
    "\n",
    "## Ch.5\n"
   ]
  },
  {
   "cell_type": "markdown",
   "metadata": {},
   "source": [
    "\n",
    "### 5.111\n",
    "\n",
    "The arithmetic for the kinetic friction force is incorrect, and has numbers swapped.  Value should be 5702 not 5207.  It should read:\n",
    "\n",
    "$$ f_k=(0.350)(2170 \\text{ kg}) (9.80 \\text{ m/s}^2) \\cos(40.0) = 5702 \\text{ N} $$"
   ]
  },
  {
   "cell_type": "markdown",
   "metadata": {},
   "source": [
    "\n",
    "## Ch. 6\n"
   ]
  },
  {
   "cell_type": "markdown",
   "metadata": {},
   "source": [
    "\n",
    "### pp. SG 6-7\n",
    "\n",
    "In Figure 5 free body diagram, \"$ mg \\sin(30) $\" is swapped with \"$ mg \\cos(30) $\".  The text of the solution uses the correct values.\n"
   ]
  },
  {
   "cell_type": "markdown",
   "metadata": {},
   "source": [
    "\n",
    "## Ch. 7\n"
   ]
  },
  {
   "cell_type": "markdown",
   "metadata": {},
   "source": [
    "\n",
    "### 7.53\n",
    "\n",
    "The units for T (tension) should be in Newtons (N) not meters (m).\n"
   ]
  },
  {
   "cell_type": "markdown",
   "metadata": {},
   "source": [
    "\n",
    "### 7.41\n",
    "\n",
    "Solution to part (b) is shown as $x=y$, which doesn't make sense considering the question asks \"How hard does it press against the track at point B?\".  Per the setup portion of the problem:\n",
    "\n",
    "$$\n",
    "    n = m \\left(\\frac{v^2}{r}-g\\right)\n",
    "      = 350\\left(\\frac{16^2}{6}-9.8\\right)\n",
    "      = 11,503.\\bar{3} = 11,500 \\text{ N}\n",
    "$$\n"
   ]
  },
  {
   "cell_type": "markdown",
   "metadata": {},
   "source": [
    "\n",
    "### 7.45\n",
    "\n",
    "Problem is missing text denoting the solution is for part \"a\".  ie: \"(a)\".\n"
   ]
  },
  {
   "cell_type": "markdown",
   "metadata": {},
   "source": [
    "\n",
    "## Ch. 8\n"
   ]
  },
  {
   "cell_type": "markdown",
   "metadata": {},
   "source": [
    "\n",
    "### VP8.9.3\n",
    "\n",
    "\"not perfectly elastic\" should read \"not perfectly inelastic\"\n"
   ]
  },
  {
   "cell_type": "markdown",
   "metadata": {},
   "source": [
    "\n",
    "### VP8.14.1\n",
    "\n",
    "There is no part \"a\" and \"b\" of the problem, the question only asks about the solution done in part \"a\".\n"
   ]
  },
  {
   "cell_type": "markdown",
   "metadata": {},
   "source": [
    "\n",
    "### 8.95\n",
    "\n",
    "The calculation of $\\frac{\\sqrt{2(9.8)(4)}}{2}=4.43$ not 19.60 as shown in the solution.\n"
   ]
  },
  {
   "cell_type": "markdown",
   "metadata": {},
   "source": [
    "\n",
    "## Ch. 9\n"
   ]
  },
  {
   "cell_type": "markdown",
   "metadata": {},
   "source": [
    "\n",
    "### pp. SG 9-3\n",
    "\n",
    "In the summary for \"Moment of Inertia\" the equation is given with an extra $+g$ value, that shouldn't be included.  \n"
   ]
  },
  {
   "cell_type": "markdown",
   "metadata": {},
   "source": [
    "\n",
    "### pp. SG 9-14\n",
    "\n",
    "Equation listed mid-page appears to have the letters \"B\" and \"R\" where an opening and closing parenthesis or brackets should appear.\n",
    "\n",
    "Appears as:\n",
    "\n",
    "$$\n",
    "    \\frac{M}{3} \\frac{y^3}{3} \\Biggr\\rvert_{2\\frac{L}{2}}^{\\frac{L}{2}}\n",
    "    = \\frac{M}{L} B \\frac{(L/2)^3}{3}-\\frac{(2 L/2)^3}{3} R\n",
    "$$\n",
    "\n",
    "Should be:\n",
    "\n",
    "\n",
    "$$\n",
    "    \\frac{M}{3} \\frac{y^3}{3} \\Biggr\\rvert_{2\\frac{L}{2}}^{\\frac{L}{2}}\n",
    "    = \\frac{M}{L} \\left( \\frac{(L/2)^3}{3}-\\frac{(2 L/2)^3}{3} \\right)\n",
    "$$\n"
   ]
  },
  {
   "cell_type": "markdown",
   "metadata": {},
   "source": [
    "\n",
    "### VP9.8.1 & VP9.8.2\n",
    "\n",
    "Solutions are swapped.\n"
   ]
  },
  {
   "cell_type": "markdown",
   "metadata": {},
   "source": [
    "\n",
    "### 9.47\n",
    "\n",
    "Question for part b is to give the answer as a percentage, but solutions manual lists total kinetic energy, and the moment of inertia equation.  Ratio of the kinetic energy of the pulley to the stone as a percentage is $4.50/9.89 = 0.46$ or 46% \n"
   ]
  },
  {
   "cell_type": "markdown",
   "metadata": {},
   "source": [
    "\n",
    "### 9.53\n",
    "\n",
    "Text question doesn't specify that the answer should be given in terms of $I_{\\text{cm}}$.\n"
   ]
  },
  {
   "cell_type": "markdown",
   "metadata": {},
   "source": [
    "\n",
    "###  9.75\n",
    "\n",
    "End of solution lists $L=800m$but this should be $L=0.800 \\text{ m}$.\n"
   ]
  },
  {
   "cell_type": "markdown",
   "metadata": {},
   "source": [
    "\n",
    "## Ch. 10\n"
   ]
  },
  {
   "cell_type": "markdown",
   "metadata": {},
   "source": [
    "\n",
    "### SG 10-2\n",
    "\n",
    "The equation for rolling without slipping is listed as $v_{\\text{cm}} = R_{\\omega}$ but should be $v_{\\text{cm}}=R \\omega$\n"
   ]
  },
  {
   "cell_type": "markdown",
   "metadata": {},
   "source": [
    "\n",
    "### SG 10-15\n",
    "\n",
    "The solution for time in the example #2 calculates it as \"1.74\" but the value before rounding is \"1.749\" and should therefore be rounded to \"1.75\"\n"
   ]
  },
  {
   "cell_type": "markdown",
   "metadata": {},
   "source": [
    "\n",
    "### VP10.7.1\n",
    "\n",
    "For a hollow cylinder $I=\\frac{1}{2}M\\left(R_1{}^2+R_2{}^2\\right)$ is given but when solved the fraction is dropped giving $I=\\frac{5\\text{MR}^2}{4}$.  Later the $\\frac{1}{2}$ fraction is added back into the problem in $\\text{TR}=\\frac{1}{2}\\left(\\frac{5R^2}{4}\\right)\\left(\\frac{a_y}{R}\\right)M$.  This provides the correct final answer but the fraction should be taken as part of the value of the moment of inertia not the torque, since $\\tau =\\text{TR}=I\\alpha$ not $\\tau =\\text{TR}=\\frac{1}{2}I\\alpha$.\n"
   ]
  },
  {
   "cell_type": "markdown",
   "metadata": {},
   "source": [
    "\n",
    "### 10.29\n",
    "\n",
    "In simplifying the solution for part a), the term $v^2$ is dropped from the equation.\n",
    "\n",
    "Specifically:\n",
    "\n",
    "\n",
    "$$\n",
    "  \\frac{1}{2}\\left\\{1+\\frac{1}{2}\\left[1+\\left(R_a/R_b\\right){}^2\\right]\\right\\}v_{\\text{cm}}{}^2 \n",
    "$$\n",
    "\n",
    "Should be:\n",
    "\n",
    "$$\n",
    " \\frac{1}{2}\\left\\{v_{\\text{cm}}{}^2+\\frac{1}{2}\\left[1+\\left(R_a/R_b\\right){}^2\\right]\\right\\}v_{\\text{cm}}{}^2 \n",
    "$$\n",
    "\n",
    "The final answer given in the solution is still correct.\n"
   ]
  },
  {
   "cell_type": "markdown",
   "metadata": {},
   "source": [
    "\n",
    "### 10.63\n",
    "\n",
    "Under the \"Execute\" section the equation for the wheel gives $T_AR-T_BR=I\\alpha=I(a/R)w$ but the 'w' is extraneous and should rather read  $T_AR-T_BR=I\\alpha=I(a/R)$.  It's also excluded from the subsequent equations.\n"
   ]
  },
  {
   "cell_type": "markdown",
   "metadata": {},
   "source": [
    "\n",
    "## Ch.11\n"
   ]
  },
  {
   "cell_type": "markdown",
   "metadata": {},
   "source": [
    "\n",
    "### SG 11-4\n",
    "\n",
    "Figure 2 shows a free-body diagram with the mass of the man incorrectly labeled as $m_{\\text{Board}}g$, it should read $m_{\\text{man}}g$.\n"
   ]
  },
  {
   "cell_type": "markdown",
   "metadata": {},
   "source": [
    "\n",
    "### SG 11-12\n",
    "\n",
    "The equation at the top of the page has an erroneous \"2\" in the exponent.   It reads: \"$2.0\\left.\\text{x10}^{2\\times5}\\right/\\text{atm}$\", but should be: \"$2.0\\left.\\text{x10}^5\\right/\\text{atm}$\"\n"
   ]
  },
  {
   "cell_type": "markdown",
   "metadata": {},
   "source": [
    "\n",
    "### VP11.4.4\n",
    "\n",
    "Part \"b\" equation lists a value of \"$w/2$\" where it should just be \"$w$\".  $F_{\\text{hinge-y}}$ is equal to $w/2$ so it appears that this was accidentally swapped for the second \"$w$\" value in the equation.  The final result is correct as $\\frac{3w}{2 \\sin \\theta}$ where as solved as written would result in a final value of $\\frac{w}{\\sin \\theta}$.  \n"
   ]
  },
  {
   "cell_type": "markdown",
   "metadata": {},
   "source": [
    "\n",
    "### 11.55\n",
    "\n",
    "The problem states the mass of the patient to be 74kg but the solution uses a mass of 37kg to calculate weights of the upper and lower leg.\n"
   ]
  },
  {
   "cell_type": "markdown",
   "metadata": {},
   "source": [
    "\n",
    "### 11.59\n",
    "\n",
    "The final answer to part a) incorrectly states the solution as $\\beta =\\arctan \\left(\\frac{1}{\\alpha }-1\\right).$  This drops the $\\tan \\theta$ value.  The correct answer which also matches the text book should be $\\beta =\\arctan \\left[\\left(\\frac{1}{\\alpha }-1\\right)\\tan (\\theta )\\right]$.\n"
   ]
  },
  {
   "cell_type": "markdown",
   "metadata": {},
   "source": [
    "\n",
    "## Ch. 12\n"
   ]
  },
  {
   "cell_type": "markdown",
   "metadata": {},
   "source": [
    "\n",
    "### VP12.9.3\n",
    "\n",
    "Part \"a\" of solution gives $h=5.9\\text{x10}^{-4}\\left.m^3\\right/s$ but this is incorrect both in value and in units and is the answer to part \"b\".  The correct solution is $0.08265m$ or $0.083m$.  Additionally the problem is worked in the manual by first finding the velocity and then the height difference, but a simpler solution is to note that $p_1-p_2=pgh$ and therefore $h=\\frac{p_1-p_2}{\\rho  g}$, where the difference in pressure is given in the problem and the density of water can be looked up in the table in the book.\n"
   ]
  },
  {
   "cell_type": "markdown",
   "metadata": {},
   "source": [
    "\n",
    "### 12.37\n",
    "\n",
    "In solving for $B$, the following equation is given:\n",
    "\n",
    "$$\n",
    " \\frac{B}{w_c}=\\frac{\\rho _{wg}(0.700V)}{\\rho _c gV}=\\frac{\\rho _w}{\\rho _c}=\\frac{1000 \\text{ kg/m}^3.}{370 \\text{ kg/m}^3}=2.7027 \n",
    "$$\n",
    "\n",
    "But the correct solution should be:\n",
    "\n",
    "\n",
    "Where \"0.700\" was previously incorrectly removed when simplifying the equation.  Continuing to solve for the tension gives \"262 N\".\n"
   ]
  },
  {
   "cell_type": "markdown",
   "metadata": {},
   "source": [
    "\n",
    "### 12.55\n",
    "\n",
    "The solution to this problem does not provide any information regarding how to setup or integrate to find the solution given.  Not a very helpful solution.  To integrate and find the solution provided we need to use the equation for pressure at a given height; $p=\\rho gh$, and the force on an area given the pressure; $F=pA$.  Combining these equations we get $F=\\rho ghA$.\n",
    "\n",
    "To solve this through integration as suggested we can take a small slice of the pool at depth $dh$, and get a small force $dF$.  Thus: $\\int _{h=0}^{h=3}dF=\\int_{h=0}^{h=3} \\rho gA dh$  Substituting in the dimensions of the one side of the pool (which is either length or width depending on the side taken by the height) gives: $\\int _{h=0}^{h=3}dF=\\int_{h=0}^{h=3} \\rho gxh dh$.  Integrating then results in: $F=\\rho gx \\frac{1}{2}h^2$.  This is equivalent to the answer given if we write it in the form $F=\\rho gxh \\frac{1}{2}h$.\n",
    "\n",
    "The solution also fails  to provide an answer for \"either end\" as requested.  The solution manual and the answer in the book apparently take this to mean the side with $x=4.0$.  The solution for the other side where $x=5.0$ would be $2.21 \\times 10^5.$  \n",
    "\n",
    "The answers given also have too many significant digits since the initial values where only to two significant figures the answers should be $1.8 \\times 10^5$ and $2.2 \\times 10^{5.}$.  This matches the first value given in the text book solution.\n"
   ]
  },
  {
   "cell_type": "markdown",
   "metadata": {},
   "source": [
    "\n",
    "### 12.71\n",
    "\n",
    "In the solution to part 'a' the flow rate has the wrong units, $0.500 \\text{m/s}^3$ should be $0.500 \\text{m}^3\\text{/s}$.\n"
   ]
  },
  {
   "cell_type": "markdown",
   "metadata": {},
   "source": [
    "\n",
    "### 12.87\n",
    "\n",
    "In removing $t$ between the two equations $\\text{vt}=R$ and $y=\\frac{1}{2}gt^2$, the solution gives $v^2=\\left(\\frac{\\rho g}{4y}\\right)R^2$.  But this is actually the correct value for the next step where it is combined with the prior Bernouli's equation.  The correct solution for this step is $v^2=\\frac{g}{2y}R^2$.  \n"
   ]
  },
  {
   "cell_type": "markdown",
   "metadata": {},
   "source": [
    "\n",
    "## Ch. 13\n"
   ]
  },
  {
   "cell_type": "markdown",
   "metadata": {},
   "source": [
    "\n",
    "### Conceptual Question 2\n",
    "\n",
    "The question \"Does the earth maintain a constant speed?\" is posed in this question and the answer states that while the velocity changes due to a directional change the speed (magnitude of velocity) does not change and is always constant.  This is only true for a perfectly circular orbit, of which the Earth orbiting the Sun is not.  An elliptical orbit is subject to a constant momentum of which the magnitude of velocity and potential gravity force are proportional according to Kepler's 2nd law.  The statement \"Thus, the earth maintains a constant speed as it orbits the sun\" is not true.  This solution could probably be rephrased in regards to the conservation of momentum, which is constant.\n"
   ]
  },
  {
   "cell_type": "markdown",
   "metadata": {},
   "source": [
    "\n",
    "### Try it yourself Problem 3\n",
    "\n",
    "The equation for determining the period of an orbiting satellite is given as $T=\\frac{2\\pi  r^{3/2}}{\\surd \\text{gR}^2}$.  But this is incorrect and should be $T=\\frac{2\\pi  r^{3/2}}{\\surd \\text{Gm}_e{}^2}$.  \n"
   ]
  },
  {
   "cell_type": "markdown",
   "metadata": {},
   "source": [
    "\n",
    "### VP 13.5.3\n",
    "\n",
    "In the question portion of VP13.5.3  incorrectly lists the radius of Mars to be $3.9\\text{x10}^6$.  The book and the solution that follows correctly note and calculate the radius to be $3.39\\text{x10}^6$.\n"
   ]
  },
  {
   "cell_type": "markdown",
   "metadata": {},
   "source": [
    "\n",
    "### VP 13.9.3\n",
    "\n",
    "The original question gives the eccentricity a value of 0.25, while the solution manual uses a value of 0.330.\n"
   ]
  },
  {
   "cell_type": "markdown",
   "metadata": {
    "tags": [],
    "user_expressions": []
   },
   "source": [
    "\n",
    "### 13.9\n",
    "\n",
    "Part b) ii) of the problem states that the answer is a stable equilibrium, however the question does not indicate any additional forces on point M are present only asking for the equilibrium for different positions for point M.   The correct answer should be unstable.\n",
    "\n",
    "The stable answer would suggest a force present in the direction of the new position M from it's original position, which is not stated in the original question.   For no constant force acting on M the answer should be that it is unstable, since upon releasing M gravitational forces will act on M in an opposite direction from it's displacement.    Likewise in part i) any constant force acting on a stable system would make it unstable (ie: it will move, at least initially).  Also since gravitational forces decrease with distance any constant force acting perpendicular to M would cause this to change with the displacement distance, hence to place M in equilibrium a force would first need to act to displace M and then decrease to match the new gravitational forces from that point (ie: decrease).  Also because the distances between each of the other two masses and M is not equal nor is the mass, object M will  have a stronger gravitational pull towards one of the two masses (3m).  An force at a point perpendicular to M would therefore need to be acting at an angle from perpendicular to balance all the gravitational forces. "
   ]
  },
  {
   "cell_type": "markdown",
   "metadata": {
    "tags": [],
    "user_expressions": []
   },
   "source": [
    "### 13.69"
   ]
  },
  {
   "cell_type": "markdown",
   "metadata": {
    "tags": [],
    "user_expressions": []
   },
   "source": [
    "Near the end of the solution the equation \n",
    "\n",
    "$$ W_{other} = (K_2 - K_1) + (U_2 - U) $$\n",
    "\n",
    "is missing a subscript '1' and should read\n",
    "\n",
    "$$ W_{other} = (K_2 - K_1) + (U_2 - U_1) $$\n"
   ]
  }
 ],
 "metadata": {
  "kernelspec": {
   "display_name": "Python 3 (ipykernel)",
   "language": "python",
   "name": "python3"
  },
  "language_info": {
   "codemirror_mode": {
    "name": "ipython",
    "version": 3
   },
   "file_extension": ".py",
   "mimetype": "text/x-python",
   "name": "python",
   "nbconvert_exporter": "python",
   "pygments_lexer": "ipython3",
   "version": "3.11.3"
  }
 },
 "nbformat": 4,
 "nbformat_minor": 4
}
